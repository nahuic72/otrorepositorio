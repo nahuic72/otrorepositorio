{
 "cells": [
  {
   "cell_type": "markdown",
   "metadata": {
    "colab_type": "text",
    "id": "52peHLgvlGfM"
   },
   "source": [
    "# 1. Lectura de datos\n",
    "\n",
    "## Lectura del set de datos (almacenado en Google Drive)"
   ]
  },
  {
   "cell_type": "code",
   "execution_count": 0,
   "metadata": {
    "colab": {},
    "colab_type": "code",
    "id": "lSOg39z9lWZQ"
   },
   "outputs": [],
   "source": [
    "import numpy as np\n",
    "import os\n",
    "import gzip\n",
    "\n",
    "def load_mnist(ruta, tipo='train'):\n",
    "\n",
    "\n",
    "    ruta_categorias = os.path.join(ruta, '%s-labels-idx1-ubyte.gz' % tipo)\n",
    "    ruta_imagenes = os.path.join(ruta, '%s-images-idx3-ubyte.gz' % tipo)\n",
    "    \n",
    "    with gzip.open(ruta_categorias, 'rb') as rut_cat:\n",
    "        etiquetas = np.frombuffer(rut_cat.read(), dtype=np.uint8, offset=8)\n",
    "\n",
    "    with gzip.open(ruta_imagenes, 'rb') as rut_imgs:\n",
    "        imagenes = np.frombuffer(rut_imgs.read(), dtype=np.uint8, offset=16).reshape(len(etiquetas), 784)\n",
    "\n",
    "    return imagenes, etiquetas"
   ]
  },
  {
   "cell_type": "markdown",
   "metadata": {
    "colab_type": "text",
    "id": "6U-H2r1am8w1"
   },
   "source": [
    "## Acceso a datos almacenados en Google Drive"
   ]
  },
  {
   "cell_type": "code",
   "execution_count": 0,
   "metadata": {
    "colab": {},
    "colab_type": "code",
    "id": "y2npj62gnELW"
   },
   "outputs": [],
   "source": [
    "from google.colab import drive\n",
    "drive.mount('/content/gdrive')\n",
    "\n",
    "ruta = 'gdrive/My Drive/Colab Notebooks/fashion_mnist_data'\n",
    "\n",
    "X_train, Y_train = load_mnist(ruta, tipo='train')\n",
    "X_test, Y_test = load_mnist(ruta, tipo='test')"
   ]
  },
  {
   "cell_type": "markdown",
   "metadata": {
    "colab_type": "text",
    "id": "FBuHypJpqXOf"
   },
   "source": [
    "## *Reshape* de los datos para garantizar que sean matrices (no vectores)"
   ]
  },
  {
   "cell_type": "code",
   "execution_count": 0,
   "metadata": {
    "colab": {},
    "colab_type": "code",
    "id": "FrqZXDMWqc_Z"
   },
   "outputs": [],
   "source": [
    "X_train = X_train[0:59904,:]\n",
    "X_test = X_test[0:9984,:]\n",
    "Y_train = Y_train[0:59904]\n",
    "Y_test = Y_test[0:9984]\n",
    "\n",
    "X_train = np.reshape(X_train,(59904,28,28,1))\n",
    "X_test = np.reshape(X_test,(9984,28,28,1))\n"
   ]
  },
  {
   "cell_type": "markdown",
   "metadata": {
    "colab_type": "text",
    "id": "Uqd4Jhgro92V"
   },
   "source": [
    "# 2. Creación del modelo con TensorFlow 2 + Keras"
   ]
  },
  {
   "cell_type": "code",
   "execution_count": 0,
   "metadata": {
    "colab": {},
    "colab_type": "code",
    "id": "FGhHO-Z1pBxm"
   },
   "outputs": [],
   "source": [
    "%tensorflow_version 2.x   # Para garantizar que la versión 2.x sea importada\n",
    "import tensorflow as tf\n",
    "print('Versión de TensorFlow: ' + tf.__version__)\n",
    "\n",
    "tf.random.set_seed(200)\n",
    "model = tf.keras.models.Sequential()\n",
    "model.add(tf.keras.layers.BatchNormalization(input_shape=X_train.shape[1:]))\n",
    "model.add(tf.keras.layers.Conv2D(64, (5, 5), padding='same', activation='elu'))\n",
    "model.add(tf.keras.layers.MaxPooling2D(pool_size=(2, 2), strides=(2,2)))\n",
    "model.add(tf.keras.layers.Dropout(0.25))\n",
    "\n",
    "model.add(tf.keras.layers.BatchNormalization(input_shape=X_train.shape[1:]))\n",
    "model.add(tf.keras.layers.Conv2D(128, (5, 5), padding='same', activation='elu'))\n",
    "model.add(tf.keras.layers.MaxPooling2D(pool_size=(2, 2)))\n",
    "model.add(tf.keras.layers.Dropout(0.25))\n",
    "\n",
    "model.add(tf.keras.layers.BatchNormalization(input_shape=X_train.shape[1:]))\n",
    "model.add(tf.keras.layers.Conv2D(256, (5, 5), padding='same', activation='elu'))\n",
    "model.add(tf.keras.layers.MaxPooling2D(pool_size=(2, 2), strides=(2,2)))\n",
    "model.add(tf.keras.layers.Dropout(0.25))\n",
    "\n",
    "model.add(tf.keras.layers.Flatten())\n",
    "model.add(tf.keras.layers.Dense(256))\n",
    "model.add(tf.keras.layers.Activation('elu'))\n",
    "model.add(tf.keras.layers.Dropout(0.5))\n",
    "model.add(tf.keras.layers.Dense(10))\n",
    "model.add(tf.keras.layers.Activation('softmax'))\n",
    "model.summary()\n",
    "\n",
    "model.compile(optimizer='adam',loss='sparse_categorical_crossentropy',metrics=['accuracy'])"
   ]
  },
  {
   "cell_type": "markdown",
   "metadata": {
    "colab_type": "text",
    "id": "RrYFF3KFsmKx"
   },
   "source": [
    "# 3. Entrenamiento con CPU"
   ]
  },
  {
   "cell_type": "code",
   "execution_count": 0,
   "metadata": {
    "colab": {},
    "colab_type": "code",
    "id": "uGrKN65PswFO"
   },
   "outputs": [],
   "source": [
    "import timeit\n",
    "\n",
    "def entrenamiento_cpu():\n",
    "    with tf.device('/cpu:0'):\n",
    "        model.fit(X_train,Y_train,validation_data=(X_test,Y_test),batch_size=128,epochs=2,verbose=1)\n",
    "  \n",
    "    return None\n",
    "\n",
    "cpu_time = timeit.timeit('entrenamiento_cpu()', number=1, setup='from __main__ import entrenamiento_cpu')"
   ]
  },
  {
   "cell_type": "code",
   "execution_count": 0,
   "metadata": {
    "colab": {},
    "colab_type": "code",
    "id": "sD3I20WCGJE2"
   },
   "outputs": [],
   "source": [
    "print('Tiempo de entrenamiento: ' + str(cpu_time) + ' segundos')"
   ]
  }
 ],
 "metadata": {
  "colab": {
   "authorship_tag": "ABX9TyOdd4TOImJ2liEf2IK6m8Fs",
   "collapsed_sections": [],
   "name": "Google Colab - Ejemplo CPU",
   "provenance": [
    {
     "file_id": "1U5jaHrnmltf6bPJHvrsXmeX-e2N6AATK",
     "timestamp": 1580841921004
    },
    {
     "file_id": "1qi0KfcISHJNNkHUIBPYrEUG2E9C78Dd4",
     "timestamp": 1580840425559
    },
    {
     "file_id": "1fVbnfoCZ8zIpbHk1PoZAhh08Swm1U6aI",
     "timestamp": 1580838945800
    }
   ]
  },
  "kernelspec": {
   "display_name": "Python 3",
   "language": "python",
   "name": "python3"
  },
  "language_info": {
   "codemirror_mode": {
    "name": "ipython",
    "version": 3
   },
   "file_extension": ".py",
   "mimetype": "text/x-python",
   "name": "python",
   "nbconvert_exporter": "python",
   "pygments_lexer": "ipython3",
   "version": "3.6.5"
  }
 },
 "nbformat": 4,
 "nbformat_minor": 1
}
